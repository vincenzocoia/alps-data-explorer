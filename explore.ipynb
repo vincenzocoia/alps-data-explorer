{
  "cells": [
    {
      "cell_type": "markdown",
      "metadata": {},
      "source": [
        "# Interactive Exploration\n",
        "\n",
        "This notebook allows for interactive (code-based) exploration of the data, rather than through the streamlit app."
      ]
    },
    {
      "cell_type": "code",
      "execution_count": null,
      "metadata": {},
      "outputs": [],
      "source": [
        "# Import core functions\n",
        "from core import (\n",
        "    initialize_earth_engine, \n",
        "    download_era5_data, \n",
        "    run_analysis,\n",
        "    create_alps_map\n",
        ")\n",
        "from config import DEFAULT_CONFIG\n",
        "import matplotlib.pyplot as plt\n",
        "import numpy as np\n",
        "\n",
        "# Enable interactive plots\n",
        "%matplotlib inline\n"
      ]
    },
    {
      "cell_type": "code",
      "execution_count": null,
      "metadata": {},
      "outputs": [],
      "source": [
        "initialize_earth_engine(\"alps-data_explorer\")\n"
      ]
    },
    {
      "cell_type": "code",
      "execution_count": null,
      "metadata": {},
      "outputs": [],
      "source": [
        "# Download data (cached)\n",
        "ds = download_era5_data()\n",
        "print(f\"✅ Data downloaded: {list(ds.data_vars)}\")\n",
        "print(f\"Time range: {ds.time.values[0]} to {ds.time.values[-1]}\")\n",
        "print(f\"Spatial extent: {ds.lon.values.min():.2f} to {ds.lon.values.max():.2f} lon, {ds.lat.values.min():.2f} to {ds.lat.values.max():.2f} lat\")\n"
      ]
    },
    {
      "cell_type": "code",
      "execution_count": null,
      "metadata": {},
      "outputs": [],
      "source": [
        "# Quick analysis with defaults\n",
        "results, plots = run_analysis(ds=ds)\n",
        "\n",
        "print(f\"Analysis complete for {results['variables']} at {results['location']}\")\n",
        "print(f\"Aggregation: {results['aggregation']}\")\n",
        "print(f\"Scale: {results['scale']}\")\n"
      ]
    },
    {
      "cell_type": "code",
      "execution_count": null,
      "metadata": {},
      "outputs": [],
      "source": [
        "# Display plots\n",
        "for name, fig in plots.items():\n",
        "    plt.figure(fig.number)\n",
        "    plt.show()\n"
      ]
    },
    {
      "cell_type": "markdown",
      "metadata": {},
      "source": [
        "## Custom Analysis - Experiment Here!\n"
      ]
    },
    {
      "cell_type": "code",
      "execution_count": null,
      "metadata": {},
      "outputs": [],
      "source": [
        "# Custom analysis - experiment here!\n",
        "custom_results, custom_plots = run_analysis(\n",
        "    v='t2m',  # Temperature\n",
        "    v2='tp',  # Precipitation  \n",
        "    choose_x=ds.lon.values[5],  # Different location\n",
        "    choose_y=ds.lat.values[5],\n",
        "    agg_duration='daily',\n",
        "    scale='Normal Scores',\n",
        "    ds=ds\n",
        ")\n",
        "\n",
        "# Show just the scatter plot\n",
        "plt.figure(custom_plots['scatter'].number)\n",
        "plt.show()\n"
      ]
    }
  ],
  "metadata": {
    "language_info": {
      "name": "python"
    }
  },
  "nbformat": 4,
  "nbformat_minor": 2
}
